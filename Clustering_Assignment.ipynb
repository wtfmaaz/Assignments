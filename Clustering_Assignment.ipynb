{
  "nbformat": 4,
  "nbformat_minor": 0,
  "metadata": {
    "colab": {
      "provenance": []
    },
    "kernelspec": {
      "name": "python3",
      "display_name": "Python 3"
    },
    "language_info": {
      "name": "python"
    }
  },
  "cells": [
    {
      "cell_type": "markdown",
      "source": [
        "# Data Preprocessing:"
      ],
      "metadata": {
        "id": "fKoa78t2x77t"
      }
    },
    {
      "cell_type": "markdown",
      "source": [
        "1.\tPreprocess the dataset to handle missing values, remove outliers, and scale the features if necessary."
      ],
      "metadata": {
        "id": "UiBALXzAx-Mg"
      }
    },
    {
      "cell_type": "code",
      "execution_count": 48,
      "metadata": {
        "id": "LYWK_TAMfZTT"
      },
      "outputs": [],
      "source": [
        "import pandas as pd\n",
        "import numpy as np\n",
        "import matplotlib.pyplot as plt\n",
        "import seaborn as sns\n",
        "from sklearn.preprocessing import StandardScaler\n",
        "from sklearn.decomposition import PCA\n",
        "from sklearn.preprocessing import LabelEncoder\n",
        "from sklearn.cluster import KMeans, DBSCAN, AgglomerativeClustering\n",
        "from sklearn.metrics import silhouette_score\n",
        "from scipy.cluster.hierarchy import dendrogram, linkage\n"
      ]
    },
    {
      "cell_type": "code",
      "source": [
        "df = pd.read_csv(\"/content/EastWestAirlines.csv\")\n",
        "df\n"
      ],
      "metadata": {
        "colab": {
          "base_uri": "https://localhost:8080/",
          "height": 1000
        },
        "id": "H9cQQB3SfacM",
        "outputId": "8edceaf2-a8e6-4dc3-c21d-c9769a725d1f"
      },
      "execution_count": 4,
      "outputs": [
        {
          "output_type": "execute_result",
          "data": {
            "text/plain": [
              "   East-West Airlines is trying to learn more about its customers.  Key issues are their  \\\n",
              "0   flying patterns, earning and use of frequent f...                                      \n",
              "1   card.  The task is to identify customer segmen...                                      \n",
              "2                                                 NaN                                      \n",
              "3                                                 NaN                                      \n",
              "4   Source: Based upon real business data; company...                                      \n",
              "5              (c) 2016 Galit Shmueli and Peter Bruce                                      \n",
              "6                                                 NaN                                      \n",
              "7                                                 NaN                                      \n",
              "8                                          Field Name                                      \n",
              "9                                                 ID#                                      \n",
              "10                                            Balance                                      \n",
              "11                                         Qual_miles                                      \n",
              "12                                          cc1_miles                                      \n",
              "13                                          cc2_miles                                      \n",
              "14                                          cc3_miles                                      \n",
              "15                                 note:  miles bins:                                      \n",
              "16                                                NaN                                      \n",
              "17                                                NaN                                      \n",
              "18                                                NaN                                      \n",
              "19                                                NaN                                      \n",
              "20                                        Bonus_miles                                      \n",
              "21                                        Bonus_trans                                      \n",
              "22                                  Flight_miles_12mo                                      \n",
              "23                                    Flight_trans_12                                      \n",
              "24                                  Days_since_enroll                                      \n",
              "25                                             Award?                                      \n",
              "\n",
              "   Unnamed: 1       Unnamed: 2                         Unnamed: 3  \\\n",
              "0         NaN              NaN                                NaN   \n",
              "1         NaN              NaN                                NaN   \n",
              "2         NaN              NaN                                NaN   \n",
              "3         NaN              NaN                                NaN   \n",
              "4         NaN              NaN                                NaN   \n",
              "5         NaN              NaN                                NaN   \n",
              "6         NaN              NaN                                NaN   \n",
              "7         NaN              NaN                                NaN   \n",
              "8   Data Type  Max Data Length  Raw Data or Telcom Created Field?   \n",
              "9      NUMBER              NaN                             Telcom   \n",
              "10     NUMBER                8                                Raw   \n",
              "11     NUMBER                8                                Raw   \n",
              "12       CHAR                1                                Raw   \n",
              "13       CHAR                1                                Raw   \n",
              "14       CHAR                1                                Raw   \n",
              "15        NaN              NaN                                NaN   \n",
              "16        NaN              NaN                                NaN   \n",
              "17        NaN              NaN                                NaN   \n",
              "18        NaN              NaN                                NaN   \n",
              "19        NaN              NaN                                NaN   \n",
              "20     NUMBER              NaN                                Raw   \n",
              "21     NUMBER              NaN                                Raw   \n",
              "22     NUMBER              NaN                                Raw   \n",
              "23     NUMBER              NaN                                Raw   \n",
              "24     NUMBER              NaN                             Telcom   \n",
              "25     NUMBER              NaN                             Telcom   \n",
              "\n",
              "                                           Unnamed: 4  \n",
              "0                                                 NaN  \n",
              "1                                                 NaN  \n",
              "2                                                 NaN  \n",
              "3                                                 NaN  \n",
              "4                                                 NaN  \n",
              "5                                                 NaN  \n",
              "6                                                 NaN  \n",
              "7                                                 NaN  \n",
              "8                                         Description  \n",
              "9                                           Unique ID  \n",
              "10          Number of miles eligible for award travel  \n",
              "11  Number of miles counted as qualifying for Topf...  \n",
              "12  Number of miles earned with freq. flyer credit...  \n",
              "13  Number of miles earned with Rewards credit car...  \n",
              "14  Number of miles earned with Small Business cre...  \n",
              "15                                    1 = under 5,000  \n",
              "16                                 2 = 5,000 - 10,000  \n",
              "17                                3 = 10,001 - 25,000  \n",
              "18                                4 = 25,001 - 50,000  \n",
              "19                                    5 = over 50,000  \n",
              "20  Number of miles earned from non-flight bonus t...  \n",
              "21  Number of non-flight bonus transactions in the...  \n",
              "22       Number of flight miles in the past 12 months  \n",
              "23  Number of flight transactions in the past 12 m...  \n",
              "24                   Number of days since Enroll_date  \n",
              "25  Dummy variable for Last_award (1=not null, 0=n...  "
            ],
            "text/html": [
              "\n",
              "  <div id=\"df-91977348-4e66-4cb4-a66f-c0af27dbd2cf\" class=\"colab-df-container\">\n",
              "    <div>\n",
              "<style scoped>\n",
              "    .dataframe tbody tr th:only-of-type {\n",
              "        vertical-align: middle;\n",
              "    }\n",
              "\n",
              "    .dataframe tbody tr th {\n",
              "        vertical-align: top;\n",
              "    }\n",
              "\n",
              "    .dataframe thead th {\n",
              "        text-align: right;\n",
              "    }\n",
              "</style>\n",
              "<table border=\"1\" class=\"dataframe\">\n",
              "  <thead>\n",
              "    <tr style=\"text-align: right;\">\n",
              "      <th></th>\n",
              "      <th>East-West Airlines is trying to learn more about its customers.  Key issues are their</th>\n",
              "      <th>Unnamed: 1</th>\n",
              "      <th>Unnamed: 2</th>\n",
              "      <th>Unnamed: 3</th>\n",
              "      <th>Unnamed: 4</th>\n",
              "    </tr>\n",
              "  </thead>\n",
              "  <tbody>\n",
              "    <tr>\n",
              "      <th>0</th>\n",
              "      <td>flying patterns, earning and use of frequent f...</td>\n",
              "      <td>NaN</td>\n",
              "      <td>NaN</td>\n",
              "      <td>NaN</td>\n",
              "      <td>NaN</td>\n",
              "    </tr>\n",
              "    <tr>\n",
              "      <th>1</th>\n",
              "      <td>card.  The task is to identify customer segmen...</td>\n",
              "      <td>NaN</td>\n",
              "      <td>NaN</td>\n",
              "      <td>NaN</td>\n",
              "      <td>NaN</td>\n",
              "    </tr>\n",
              "    <tr>\n",
              "      <th>2</th>\n",
              "      <td>NaN</td>\n",
              "      <td>NaN</td>\n",
              "      <td>NaN</td>\n",
              "      <td>NaN</td>\n",
              "      <td>NaN</td>\n",
              "    </tr>\n",
              "    <tr>\n",
              "      <th>3</th>\n",
              "      <td>NaN</td>\n",
              "      <td>NaN</td>\n",
              "      <td>NaN</td>\n",
              "      <td>NaN</td>\n",
              "      <td>NaN</td>\n",
              "    </tr>\n",
              "    <tr>\n",
              "      <th>4</th>\n",
              "      <td>Source: Based upon real business data; company...</td>\n",
              "      <td>NaN</td>\n",
              "      <td>NaN</td>\n",
              "      <td>NaN</td>\n",
              "      <td>NaN</td>\n",
              "    </tr>\n",
              "    <tr>\n",
              "      <th>5</th>\n",
              "      <td>(c) 2016 Galit Shmueli and Peter Bruce</td>\n",
              "      <td>NaN</td>\n",
              "      <td>NaN</td>\n",
              "      <td>NaN</td>\n",
              "      <td>NaN</td>\n",
              "    </tr>\n",
              "    <tr>\n",
              "      <th>6</th>\n",
              "      <td>NaN</td>\n",
              "      <td>NaN</td>\n",
              "      <td>NaN</td>\n",
              "      <td>NaN</td>\n",
              "      <td>NaN</td>\n",
              "    </tr>\n",
              "    <tr>\n",
              "      <th>7</th>\n",
              "      <td>NaN</td>\n",
              "      <td>NaN</td>\n",
              "      <td>NaN</td>\n",
              "      <td>NaN</td>\n",
              "      <td>NaN</td>\n",
              "    </tr>\n",
              "    <tr>\n",
              "      <th>8</th>\n",
              "      <td>Field Name</td>\n",
              "      <td>Data Type</td>\n",
              "      <td>Max Data Length</td>\n",
              "      <td>Raw Data or Telcom Created Field?</td>\n",
              "      <td>Description</td>\n",
              "    </tr>\n",
              "    <tr>\n",
              "      <th>9</th>\n",
              "      <td>ID#</td>\n",
              "      <td>NUMBER</td>\n",
              "      <td>NaN</td>\n",
              "      <td>Telcom</td>\n",
              "      <td>Unique ID</td>\n",
              "    </tr>\n",
              "    <tr>\n",
              "      <th>10</th>\n",
              "      <td>Balance</td>\n",
              "      <td>NUMBER</td>\n",
              "      <td>8</td>\n",
              "      <td>Raw</td>\n",
              "      <td>Number of miles eligible for award travel</td>\n",
              "    </tr>\n",
              "    <tr>\n",
              "      <th>11</th>\n",
              "      <td>Qual_miles</td>\n",
              "      <td>NUMBER</td>\n",
              "      <td>8</td>\n",
              "      <td>Raw</td>\n",
              "      <td>Number of miles counted as qualifying for Topf...</td>\n",
              "    </tr>\n",
              "    <tr>\n",
              "      <th>12</th>\n",
              "      <td>cc1_miles</td>\n",
              "      <td>CHAR</td>\n",
              "      <td>1</td>\n",
              "      <td>Raw</td>\n",
              "      <td>Number of miles earned with freq. flyer credit...</td>\n",
              "    </tr>\n",
              "    <tr>\n",
              "      <th>13</th>\n",
              "      <td>cc2_miles</td>\n",
              "      <td>CHAR</td>\n",
              "      <td>1</td>\n",
              "      <td>Raw</td>\n",
              "      <td>Number of miles earned with Rewards credit car...</td>\n",
              "    </tr>\n",
              "    <tr>\n",
              "      <th>14</th>\n",
              "      <td>cc3_miles</td>\n",
              "      <td>CHAR</td>\n",
              "      <td>1</td>\n",
              "      <td>Raw</td>\n",
              "      <td>Number of miles earned with Small Business cre...</td>\n",
              "    </tr>\n",
              "    <tr>\n",
              "      <th>15</th>\n",
              "      <td>note:  miles bins:</td>\n",
              "      <td>NaN</td>\n",
              "      <td>NaN</td>\n",
              "      <td>NaN</td>\n",
              "      <td>1 = under 5,000</td>\n",
              "    </tr>\n",
              "    <tr>\n",
              "      <th>16</th>\n",
              "      <td>NaN</td>\n",
              "      <td>NaN</td>\n",
              "      <td>NaN</td>\n",
              "      <td>NaN</td>\n",
              "      <td>2 = 5,000 - 10,000</td>\n",
              "    </tr>\n",
              "    <tr>\n",
              "      <th>17</th>\n",
              "      <td>NaN</td>\n",
              "      <td>NaN</td>\n",
              "      <td>NaN</td>\n",
              "      <td>NaN</td>\n",
              "      <td>3 = 10,001 - 25,000</td>\n",
              "    </tr>\n",
              "    <tr>\n",
              "      <th>18</th>\n",
              "      <td>NaN</td>\n",
              "      <td>NaN</td>\n",
              "      <td>NaN</td>\n",
              "      <td>NaN</td>\n",
              "      <td>4 = 25,001 - 50,000</td>\n",
              "    </tr>\n",
              "    <tr>\n",
              "      <th>19</th>\n",
              "      <td>NaN</td>\n",
              "      <td>NaN</td>\n",
              "      <td>NaN</td>\n",
              "      <td>NaN</td>\n",
              "      <td>5 = over 50,000</td>\n",
              "    </tr>\n",
              "    <tr>\n",
              "      <th>20</th>\n",
              "      <td>Bonus_miles</td>\n",
              "      <td>NUMBER</td>\n",
              "      <td>NaN</td>\n",
              "      <td>Raw</td>\n",
              "      <td>Number of miles earned from non-flight bonus t...</td>\n",
              "    </tr>\n",
              "    <tr>\n",
              "      <th>21</th>\n",
              "      <td>Bonus_trans</td>\n",
              "      <td>NUMBER</td>\n",
              "      <td>NaN</td>\n",
              "      <td>Raw</td>\n",
              "      <td>Number of non-flight bonus transactions in the...</td>\n",
              "    </tr>\n",
              "    <tr>\n",
              "      <th>22</th>\n",
              "      <td>Flight_miles_12mo</td>\n",
              "      <td>NUMBER</td>\n",
              "      <td>NaN</td>\n",
              "      <td>Raw</td>\n",
              "      <td>Number of flight miles in the past 12 months</td>\n",
              "    </tr>\n",
              "    <tr>\n",
              "      <th>23</th>\n",
              "      <td>Flight_trans_12</td>\n",
              "      <td>NUMBER</td>\n",
              "      <td>NaN</td>\n",
              "      <td>Raw</td>\n",
              "      <td>Number of flight transactions in the past 12 m...</td>\n",
              "    </tr>\n",
              "    <tr>\n",
              "      <th>24</th>\n",
              "      <td>Days_since_enroll</td>\n",
              "      <td>NUMBER</td>\n",
              "      <td>NaN</td>\n",
              "      <td>Telcom</td>\n",
              "      <td>Number of days since Enroll_date</td>\n",
              "    </tr>\n",
              "    <tr>\n",
              "      <th>25</th>\n",
              "      <td>Award?</td>\n",
              "      <td>NUMBER</td>\n",
              "      <td>NaN</td>\n",
              "      <td>Telcom</td>\n",
              "      <td>Dummy variable for Last_award (1=not null, 0=n...</td>\n",
              "    </tr>\n",
              "  </tbody>\n",
              "</table>\n",
              "</div>\n",
              "    <div class=\"colab-df-buttons\">\n",
              "\n",
              "  <div class=\"colab-df-container\">\n",
              "    <button class=\"colab-df-convert\" onclick=\"convertToInteractive('df-91977348-4e66-4cb4-a66f-c0af27dbd2cf')\"\n",
              "            title=\"Convert this dataframe to an interactive table.\"\n",
              "            style=\"display:none;\">\n",
              "\n",
              "  <svg xmlns=\"http://www.w3.org/2000/svg\" height=\"24px\" viewBox=\"0 -960 960 960\">\n",
              "    <path d=\"M120-120v-720h720v720H120Zm60-500h600v-160H180v160Zm220 220h160v-160H400v160Zm0 220h160v-160H400v160ZM180-400h160v-160H180v160Zm440 0h160v-160H620v160ZM180-180h160v-160H180v160Zm440 0h160v-160H620v160Z\"/>\n",
              "  </svg>\n",
              "    </button>\n",
              "\n",
              "  <style>\n",
              "    .colab-df-container {\n",
              "      display:flex;\n",
              "      gap: 12px;\n",
              "    }\n",
              "\n",
              "    .colab-df-convert {\n",
              "      background-color: #E8F0FE;\n",
              "      border: none;\n",
              "      border-radius: 50%;\n",
              "      cursor: pointer;\n",
              "      display: none;\n",
              "      fill: #1967D2;\n",
              "      height: 32px;\n",
              "      padding: 0 0 0 0;\n",
              "      width: 32px;\n",
              "    }\n",
              "\n",
              "    .colab-df-convert:hover {\n",
              "      background-color: #E2EBFA;\n",
              "      box-shadow: 0px 1px 2px rgba(60, 64, 67, 0.3), 0px 1px 3px 1px rgba(60, 64, 67, 0.15);\n",
              "      fill: #174EA6;\n",
              "    }\n",
              "\n",
              "    .colab-df-buttons div {\n",
              "      margin-bottom: 4px;\n",
              "    }\n",
              "\n",
              "    [theme=dark] .colab-df-convert {\n",
              "      background-color: #3B4455;\n",
              "      fill: #D2E3FC;\n",
              "    }\n",
              "\n",
              "    [theme=dark] .colab-df-convert:hover {\n",
              "      background-color: #434B5C;\n",
              "      box-shadow: 0px 1px 3px 1px rgba(0, 0, 0, 0.15);\n",
              "      filter: drop-shadow(0px 1px 2px rgba(0, 0, 0, 0.3));\n",
              "      fill: #FFFFFF;\n",
              "    }\n",
              "  </style>\n",
              "\n",
              "    <script>\n",
              "      const buttonEl =\n",
              "        document.querySelector('#df-91977348-4e66-4cb4-a66f-c0af27dbd2cf button.colab-df-convert');\n",
              "      buttonEl.style.display =\n",
              "        google.colab.kernel.accessAllowed ? 'block' : 'none';\n",
              "\n",
              "      async function convertToInteractive(key) {\n",
              "        const element = document.querySelector('#df-91977348-4e66-4cb4-a66f-c0af27dbd2cf');\n",
              "        const dataTable =\n",
              "          await google.colab.kernel.invokeFunction('convertToInteractive',\n",
              "                                                    [key], {});\n",
              "        if (!dataTable) return;\n",
              "\n",
              "        const docLinkHtml = 'Like what you see? Visit the ' +\n",
              "          '<a target=\"_blank\" href=https://colab.research.google.com/notebooks/data_table.ipynb>data table notebook</a>'\n",
              "          + ' to learn more about interactive tables.';\n",
              "        element.innerHTML = '';\n",
              "        dataTable['output_type'] = 'display_data';\n",
              "        await google.colab.output.renderOutput(dataTable, element);\n",
              "        const docLink = document.createElement('div');\n",
              "        docLink.innerHTML = docLinkHtml;\n",
              "        element.appendChild(docLink);\n",
              "      }\n",
              "    </script>\n",
              "  </div>\n",
              "\n",
              "\n",
              "<div id=\"df-505414ae-65f8-4f02-85a2-a9b25bab9fa8\">\n",
              "  <button class=\"colab-df-quickchart\" onclick=\"quickchart('df-505414ae-65f8-4f02-85a2-a9b25bab9fa8')\"\n",
              "            title=\"Suggest charts\"\n",
              "            style=\"display:none;\">\n",
              "\n",
              "<svg xmlns=\"http://www.w3.org/2000/svg\" height=\"24px\"viewBox=\"0 0 24 24\"\n",
              "     width=\"24px\">\n",
              "    <g>\n",
              "        <path d=\"M19 3H5c-1.1 0-2 .9-2 2v14c0 1.1.9 2 2 2h14c1.1 0 2-.9 2-2V5c0-1.1-.9-2-2-2zM9 17H7v-7h2v7zm4 0h-2V7h2v10zm4 0h-2v-4h2v4z\"/>\n",
              "    </g>\n",
              "</svg>\n",
              "  </button>\n",
              "\n",
              "<style>\n",
              "  .colab-df-quickchart {\n",
              "      --bg-color: #E8F0FE;\n",
              "      --fill-color: #1967D2;\n",
              "      --hover-bg-color: #E2EBFA;\n",
              "      --hover-fill-color: #174EA6;\n",
              "      --disabled-fill-color: #AAA;\n",
              "      --disabled-bg-color: #DDD;\n",
              "  }\n",
              "\n",
              "  [theme=dark] .colab-df-quickchart {\n",
              "      --bg-color: #3B4455;\n",
              "      --fill-color: #D2E3FC;\n",
              "      --hover-bg-color: #434B5C;\n",
              "      --hover-fill-color: #FFFFFF;\n",
              "      --disabled-bg-color: #3B4455;\n",
              "      --disabled-fill-color: #666;\n",
              "  }\n",
              "\n",
              "  .colab-df-quickchart {\n",
              "    background-color: var(--bg-color);\n",
              "    border: none;\n",
              "    border-radius: 50%;\n",
              "    cursor: pointer;\n",
              "    display: none;\n",
              "    fill: var(--fill-color);\n",
              "    height: 32px;\n",
              "    padding: 0;\n",
              "    width: 32px;\n",
              "  }\n",
              "\n",
              "  .colab-df-quickchart:hover {\n",
              "    background-color: var(--hover-bg-color);\n",
              "    box-shadow: 0 1px 2px rgba(60, 64, 67, 0.3), 0 1px 3px 1px rgba(60, 64, 67, 0.15);\n",
              "    fill: var(--button-hover-fill-color);\n",
              "  }\n",
              "\n",
              "  .colab-df-quickchart-complete:disabled,\n",
              "  .colab-df-quickchart-complete:disabled:hover {\n",
              "    background-color: var(--disabled-bg-color);\n",
              "    fill: var(--disabled-fill-color);\n",
              "    box-shadow: none;\n",
              "  }\n",
              "\n",
              "  .colab-df-spinner {\n",
              "    border: 2px solid var(--fill-color);\n",
              "    border-color: transparent;\n",
              "    border-bottom-color: var(--fill-color);\n",
              "    animation:\n",
              "      spin 1s steps(1) infinite;\n",
              "  }\n",
              "\n",
              "  @keyframes spin {\n",
              "    0% {\n",
              "      border-color: transparent;\n",
              "      border-bottom-color: var(--fill-color);\n",
              "      border-left-color: var(--fill-color);\n",
              "    }\n",
              "    20% {\n",
              "      border-color: transparent;\n",
              "      border-left-color: var(--fill-color);\n",
              "      border-top-color: var(--fill-color);\n",
              "    }\n",
              "    30% {\n",
              "      border-color: transparent;\n",
              "      border-left-color: var(--fill-color);\n",
              "      border-top-color: var(--fill-color);\n",
              "      border-right-color: var(--fill-color);\n",
              "    }\n",
              "    40% {\n",
              "      border-color: transparent;\n",
              "      border-right-color: var(--fill-color);\n",
              "      border-top-color: var(--fill-color);\n",
              "    }\n",
              "    60% {\n",
              "      border-color: transparent;\n",
              "      border-right-color: var(--fill-color);\n",
              "    }\n",
              "    80% {\n",
              "      border-color: transparent;\n",
              "      border-right-color: var(--fill-color);\n",
              "      border-bottom-color: var(--fill-color);\n",
              "    }\n",
              "    90% {\n",
              "      border-color: transparent;\n",
              "      border-bottom-color: var(--fill-color);\n",
              "    }\n",
              "  }\n",
              "</style>\n",
              "\n",
              "  <script>\n",
              "    async function quickchart(key) {\n",
              "      const quickchartButtonEl =\n",
              "        document.querySelector('#' + key + ' button');\n",
              "      quickchartButtonEl.disabled = true;  // To prevent multiple clicks.\n",
              "      quickchartButtonEl.classList.add('colab-df-spinner');\n",
              "      try {\n",
              "        const charts = await google.colab.kernel.invokeFunction(\n",
              "            'suggestCharts', [key], {});\n",
              "      } catch (error) {\n",
              "        console.error('Error during call to suggestCharts:', error);\n",
              "      }\n",
              "      quickchartButtonEl.classList.remove('colab-df-spinner');\n",
              "      quickchartButtonEl.classList.add('colab-df-quickchart-complete');\n",
              "    }\n",
              "    (() => {\n",
              "      let quickchartButtonEl =\n",
              "        document.querySelector('#df-505414ae-65f8-4f02-85a2-a9b25bab9fa8 button');\n",
              "      quickchartButtonEl.style.display =\n",
              "        google.colab.kernel.accessAllowed ? 'block' : 'none';\n",
              "    })();\n",
              "  </script>\n",
              "</div>\n",
              "\n",
              "  <div id=\"id_005c9e48-1b82-4ee2-a17e-9de342369c20\">\n",
              "    <style>\n",
              "      .colab-df-generate {\n",
              "        background-color: #E8F0FE;\n",
              "        border: none;\n",
              "        border-radius: 50%;\n",
              "        cursor: pointer;\n",
              "        display: none;\n",
              "        fill: #1967D2;\n",
              "        height: 32px;\n",
              "        padding: 0 0 0 0;\n",
              "        width: 32px;\n",
              "      }\n",
              "\n",
              "      .colab-df-generate:hover {\n",
              "        background-color: #E2EBFA;\n",
              "        box-shadow: 0px 1px 2px rgba(60, 64, 67, 0.3), 0px 1px 3px 1px rgba(60, 64, 67, 0.15);\n",
              "        fill: #174EA6;\n",
              "      }\n",
              "\n",
              "      [theme=dark] .colab-df-generate {\n",
              "        background-color: #3B4455;\n",
              "        fill: #D2E3FC;\n",
              "      }\n",
              "\n",
              "      [theme=dark] .colab-df-generate:hover {\n",
              "        background-color: #434B5C;\n",
              "        box-shadow: 0px 1px 3px 1px rgba(0, 0, 0, 0.15);\n",
              "        filter: drop-shadow(0px 1px 2px rgba(0, 0, 0, 0.3));\n",
              "        fill: #FFFFFF;\n",
              "      }\n",
              "    </style>\n",
              "    <button class=\"colab-df-generate\" onclick=\"generateWithVariable('df')\"\n",
              "            title=\"Generate code using this dataframe.\"\n",
              "            style=\"display:none;\">\n",
              "\n",
              "  <svg xmlns=\"http://www.w3.org/2000/svg\" height=\"24px\"viewBox=\"0 0 24 24\"\n",
              "       width=\"24px\">\n",
              "    <path d=\"M7,19H8.4L18.45,9,17,7.55,7,17.6ZM5,21V16.75L18.45,3.32a2,2,0,0,1,2.83,0l1.4,1.43a1.91,1.91,0,0,1,.58,1.4,1.91,1.91,0,0,1-.58,1.4L9.25,21ZM18.45,9,17,7.55Zm-12,3A5.31,5.31,0,0,0,4.9,8.1,5.31,5.31,0,0,0,1,6.5,5.31,5.31,0,0,0,4.9,4.9,5.31,5.31,0,0,0,6.5,1,5.31,5.31,0,0,0,8.1,4.9,5.31,5.31,0,0,0,12,6.5,5.46,5.46,0,0,0,6.5,12Z\"/>\n",
              "  </svg>\n",
              "    </button>\n",
              "    <script>\n",
              "      (() => {\n",
              "      const buttonEl =\n",
              "        document.querySelector('#id_005c9e48-1b82-4ee2-a17e-9de342369c20 button.colab-df-generate');\n",
              "      buttonEl.style.display =\n",
              "        google.colab.kernel.accessAllowed ? 'block' : 'none';\n",
              "\n",
              "      buttonEl.onclick = () => {\n",
              "        google.colab.notebook.generateWithVariable('df');\n",
              "      }\n",
              "      })();\n",
              "    </script>\n",
              "  </div>\n",
              "\n",
              "    </div>\n",
              "  </div>\n"
            ],
            "application/vnd.google.colaboratory.intrinsic+json": {
              "type": "dataframe",
              "variable_name": "df",
              "summary": "{\n  \"name\": \"df\",\n  \"rows\": 26,\n  \"fields\": [\n    {\n      \"column\": \"East-West Airlines is trying to learn more about its customers.  Key issues are their\",\n      \"properties\": {\n        \"dtype\": \"string\",\n        \"num_unique_values\": 18,\n        \"samples\": [\n          \"flying patterns, earning and use of frequent flyer rewards, and use of the airline credit\",\n          \"card.  The task is to identify customer segments via clustering.\",\n          \"cc1_miles\"\n        ],\n        \"semantic_type\": \"\",\n        \"description\": \"\"\n      }\n    },\n    {\n      \"column\": \"Unnamed: 1\",\n      \"properties\": {\n        \"dtype\": \"category\",\n        \"num_unique_values\": 3,\n        \"samples\": [\n          \"Data Type\",\n          \"NUMBER\",\n          \"CHAR\"\n        ],\n        \"semantic_type\": \"\",\n        \"description\": \"\"\n      }\n    },\n    {\n      \"column\": \"Unnamed: 2\",\n      \"properties\": {\n        \"dtype\": \"category\",\n        \"num_unique_values\": 3,\n        \"samples\": [\n          \"Max Data Length\",\n          \"8\",\n          \"1\"\n        ],\n        \"semantic_type\": \"\",\n        \"description\": \"\"\n      }\n    },\n    {\n      \"column\": \"Unnamed: 3\",\n      \"properties\": {\n        \"dtype\": \"category\",\n        \"num_unique_values\": 3,\n        \"samples\": [\n          \"Raw Data or Telcom Created Field?\",\n          \"Telcom\",\n          \"Raw\"\n        ],\n        \"semantic_type\": \"\",\n        \"description\": \"\"\n      }\n    },\n    {\n      \"column\": \"Unnamed: 4\",\n      \"properties\": {\n        \"dtype\": \"string\",\n        \"num_unique_values\": 18,\n        \"samples\": [\n          \"Description\",\n          \"Unique ID\",\n          \"2 = 5,000 - 10,000\"\n        ],\n        \"semantic_type\": \"\",\n        \"description\": \"\"\n      }\n    }\n  ]\n}"
            }
          },
          "metadata": {},
          "execution_count": 4
        }
      ]
    },
    {
      "cell_type": "code",
      "source": [
        "print(df.isnull().sum())"
      ],
      "metadata": {
        "colab": {
          "base_uri": "https://localhost:8080/"
        },
        "id": "ev4PFdPcfqij",
        "outputId": "8e6b79a3-6745-436a-b524-34d1d71c3fc1"
      },
      "execution_count": 5,
      "outputs": [
        {
          "output_type": "stream",
          "name": "stdout",
          "text": [
            "East-West Airlines is trying to learn more about its customers.  Key issues are their     8\n",
            "Unnamed: 1                                                                               13\n",
            "Unnamed: 2                                                                               20\n",
            "Unnamed: 3                                                                               13\n",
            "Unnamed: 4                                                                                8\n",
            "dtype: int64\n"
          ]
        }
      ]
    },
    {
      "cell_type": "code",
      "source": [
        "df.dropna(inplace=True)"
      ],
      "metadata": {
        "id": "f0IyzgWFfvZc"
      },
      "execution_count": 7,
      "outputs": []
    },
    {
      "cell_type": "code",
      "source": [
        "df.index"
      ],
      "metadata": {
        "colab": {
          "base_uri": "https://localhost:8080/"
        },
        "id": "9UKuQbJaoEbs",
        "outputId": "9d2c5775-b399-4b89-d508-c837d091a11c"
      },
      "execution_count": 32,
      "outputs": [
        {
          "output_type": "execute_result",
          "data": {
            "text/plain": [
              "Index([8, 10, 11, 12, 13, 14], dtype='int64')"
            ]
          },
          "metadata": {},
          "execution_count": 32
        }
      ]
    },
    {
      "cell_type": "code",
      "source": [
        "numeric_columns = ['Unnamed: 1','Unnamed: 2','Unnamed: 3','Unnamed: 4']\n"
      ],
      "metadata": {
        "id": "apknQmLhnSqN"
      },
      "execution_count": 33,
      "outputs": []
    },
    {
      "cell_type": "code",
      "source": [
        "df[numeric_columns] = df[numeric_columns].apply(pd.to_numeric, errors='coerce')\n"
      ],
      "metadata": {
        "id": "q13JueUYnUzV"
      },
      "execution_count": 34,
      "outputs": []
    },
    {
      "cell_type": "code",
      "source": [
        "print(df.info())\n"
      ],
      "metadata": {
        "colab": {
          "base_uri": "https://localhost:8080/"
        },
        "id": "h071LZVUnUv5",
        "outputId": "ad8bc51d-19b2-4cea-c607-a1deb5559943"
      },
      "execution_count": 35,
      "outputs": [
        {
          "output_type": "stream",
          "name": "stdout",
          "text": [
            "<class 'pandas.core.frame.DataFrame'>\n",
            "Index: 6 entries, 8 to 14\n",
            "Data columns (total 5 columns):\n",
            " #   Column                                                                                 Non-Null Count  Dtype  \n",
            "---  ------                                                                                 --------------  -----  \n",
            " 0   East-West Airlines is trying to learn more about its customers.  Key issues are their  6 non-null      object \n",
            " 1   Unnamed: 1                                                                             0 non-null      float64\n",
            " 2   Unnamed: 2                                                                             5 non-null      float64\n",
            " 3   Unnamed: 3                                                                             0 non-null      float64\n",
            " 4   Unnamed: 4                                                                             0 non-null      float64\n",
            "dtypes: float64(4), object(1)\n",
            "memory usage: 288.0+ bytes\n",
            "None\n"
          ]
        }
      ]
    },
    {
      "cell_type": "code",
      "source": [
        "print(df.isnull().sum())\n"
      ],
      "metadata": {
        "colab": {
          "base_uri": "https://localhost:8080/"
        },
        "id": "x2Cf6hS4ogAD",
        "outputId": "f4b4765a-a75e-4c6f-cb7c-238db3317f63"
      },
      "execution_count": 36,
      "outputs": [
        {
          "output_type": "stream",
          "name": "stdout",
          "text": [
            "East-West Airlines is trying to learn more about its customers.  Key issues are their    0\n",
            "Unnamed: 1                                                                               6\n",
            "Unnamed: 2                                                                               1\n",
            "Unnamed: 3                                                                               6\n",
            "Unnamed: 4                                                                               6\n",
            "dtype: int64\n"
          ]
        }
      ]
    },
    {
      "cell_type": "code",
      "source": [
        "numeric_columns = df.select_dtypes(include=[np.number])\n"
      ],
      "metadata": {
        "id": "WQ02NHQchMrf"
      },
      "execution_count": 9,
      "outputs": []
    },
    {
      "cell_type": "code",
      "source": [
        "Q1 = numeric_columns.quantile(0.25)\n",
        "Q3 = numeric_columns.quantile(0.75)\n",
        "IQR = Q3 - Q1"
      ],
      "metadata": {
        "id": "o0pZfKfahOxy"
      },
      "execution_count": 13,
      "outputs": []
    },
    {
      "cell_type": "code",
      "source": [
        "df_filtered = df[~((numeric_columns < (Q1 - 1.5 * IQR)) | (numeric_columns > (Q3 + 1.5 * IQR))).any(axis=1)]\n"
      ],
      "metadata": {
        "id": "6eo1Y4L5h2du"
      },
      "execution_count": 14,
      "outputs": []
    },
    {
      "cell_type": "code",
      "source": [
        "df = df_filtered"
      ],
      "metadata": {
        "id": "zkzg4-mSh6v_"
      },
      "execution_count": 15,
      "outputs": []
    },
    {
      "cell_type": "code",
      "source": [
        "numeric_cols = df.select_dtypes(include='number').columns\n",
        "df[numeric_cols] = df[numeric_cols].fillna(df[numeric_cols].mean())\n",
        "scaler = StandardScaler()\n",
        "df[numeric_cols] = scaler.fit_transform(df[numeric_cols])\n",
        "\n",
        "print(df)"
      ],
      "metadata": {
        "colab": {
          "base_uri": "https://localhost:8080/"
        },
        "id": "Q4kbMtudk49j",
        "outputId": "0fab2aa4-0cd9-4a22-a9eb-900560e4e297"
      },
      "execution_count": 40,
      "outputs": [
        {
          "output_type": "stream",
          "name": "stdout",
          "text": [
            "   East-West Airlines is trying to learn more about its customers.  Key issues are their  \\\n",
            "8                                          Field Name                                      \n",
            "10                                            Balance                                      \n",
            "11                                         Qual_miles                                      \n",
            "12                                          cc1_miles                                      \n",
            "13                                          cc2_miles                                      \n",
            "14                                          cc3_miles                                      \n",
            "\n",
            "    Unnamed: 1    Unnamed: 2  Unnamed: 3  Unnamed: 4  \n",
            "8          NaN -3.083679e-17         NaN         NaN  \n",
            "10         NaN  1.341641e+00         NaN         NaN  \n",
            "11         NaN  1.341641e+00         NaN         NaN  \n",
            "12         NaN -8.944272e-01         NaN         NaN  \n",
            "13         NaN -8.944272e-01         NaN         NaN  \n",
            "14         NaN -8.944272e-01         NaN         NaN  \n"
          ]
        },
        {
          "output_type": "stream",
          "name": "stderr",
          "text": [
            "/usr/local/lib/python3.10/dist-packages/sklearn/utils/extmath.py:1050: RuntimeWarning: invalid value encountered in divide\n",
            "  updated_mean = (last_sum + new_sum) / updated_sample_count\n",
            "/usr/local/lib/python3.10/dist-packages/sklearn/utils/extmath.py:1055: RuntimeWarning: invalid value encountered in divide\n",
            "  T = new_sum / new_sample_count\n",
            "/usr/local/lib/python3.10/dist-packages/sklearn/utils/extmath.py:1075: RuntimeWarning: invalid value encountered in divide\n",
            "  new_unnormalized_variance -= correction**2 / new_sample_count\n"
          ]
        }
      ]
    },
    {
      "cell_type": "markdown",
      "source": [
        "2.\tPerform exploratory data analysis (EDA) to gain insights into the distribution of data and identify potential clusters."
      ],
      "metadata": {
        "id": "J2hFGhPcyPAV"
      }
    },
    {
      "cell_type": "code",
      "source": [
        "plt.figure(figsize=(10, 8))\n",
        "sns.boxplot(data=df_numeric_imputed)\n",
        "plt.title(\"Boxplot of Features\")\n",
        "plt.show()\n"
      ],
      "metadata": {
        "colab": {
          "base_uri": "https://localhost:8080/",
          "height": 699
        },
        "id": "KsogLb1uiiZ9",
        "outputId": "538f1e9f-3db3-4ba9-d7fd-525f8af6d729"
      },
      "execution_count": 102,
      "outputs": [
        {
          "output_type": "display_data",
          "data": {
            "text/plain": [
              "<Figure size 1000x800 with 1 Axes>"
            ],
            "image/png": "[encoded data removed]"
          },
          "metadata": {}
        }
      ]
    },
    {
      "cell_type": "markdown",
      "source": [
        "3.\tUse multiple visualizations to understand the hidden patterns in the dataset"
      ],
      "metadata": {
        "id": "NpsZMw1OyveZ"
      }
    },
    {
      "cell_type": "code",
      "source": [
        "df_numeric = df.select_dtypes(include=['number'])"
      ],
      "metadata": {
        "id": "snSdTO8-reIO"
      },
      "execution_count": 49,
      "outputs": []
    },
    {
      "cell_type": "code",
      "source": [
        "for col in df.select_dtypes(include=['object']).columns:\n",
        "    le = LabelEncoder()\n",
        "    df[col] = le.fit_transform(df[col].astype(str))"
      ],
      "metadata": {
        "id": "7KDUmN9orhtU"
      },
      "execution_count": 50,
      "outputs": []
    },
    {
      "cell_type": "code",
      "source": [
        "from sklearn.impute import SimpleImputer"
      ],
      "metadata": {
        "id": "Vv4V7OI4sU1L"
      },
      "execution_count": 56,
      "outputs": []
    },
    {
      "cell_type": "code",
      "source": [
        "imputer = SimpleImputer(strategy='mean')\n",
        "df_numeric_imputed = imputer.fit_transform(df_numeric)\n"
      ],
      "metadata": {
        "colab": {
          "base_uri": "https://localhost:8080/"
        },
        "id": "eQehVMw0sPSB",
        "outputId": "480ca7cb-f372-45d9-f37d-b9c7dc37c9cd"
      },
      "execution_count": 57,
      "outputs": [
        {
          "output_type": "stream",
          "name": "stderr",
          "text": [
            "/usr/local/lib/python3.10/dist-packages/sklearn/impute/_base.py:558: UserWarning: Skipping features without any observed values: ['Unnamed: 1' 'Unnamed: 3' 'Unnamed: 4']. At least one non-missing value is needed for imputation with strategy='mean'.\n",
            "  warnings.warn(\n"
          ]
        }
      ]
    },
    {
      "cell_type": "code",
      "source": [
        "print(f\"Number of numeric features: {df_numeric_imputed.shape[1]}\")"
      ],
      "metadata": {
        "colab": {
          "base_uri": "https://localhost:8080/"
        },
        "id": "vgL7r2nKssau",
        "outputId": "586239d6-c64c-4adf-f5dc-8beeed22a3f1"
      },
      "execution_count": 65,
      "outputs": [
        {
          "output_type": "stream",
          "name": "stdout",
          "text": [
            "Number of numeric features: 1\n"
          ]
        }
      ]
    },
    {
      "cell_type": "code",
      "source": [
        "n_features = df_numeric_imputed.shape[1]"
      ],
      "metadata": {
        "id": "0bvnwt9yszzy"
      },
      "execution_count": 74,
      "outputs": []
    },
    {
      "cell_type": "code",
      "source": [
        "n_components = min(1, n_features)"
      ],
      "metadata": {
        "id": "_XIw8788u4qZ"
      },
      "execution_count": 79,
      "outputs": []
    },
    {
      "cell_type": "code",
      "source": [
        "n_samples, n_features = df_numeric_imputed.shape\n",
        "print(f\"Number of samples: {n_samples}\")\n",
        "print(f\"Number of features: {n_features}\")"
      ],
      "metadata": {
        "colab": {
          "base_uri": "https://localhost:8080/"
        },
        "id": "ofe8XTl1tbZi",
        "outputId": "94fc2135-64c5-4b82-e57b-2f79c9ab6516"
      },
      "execution_count": 75,
      "outputs": [
        {
          "output_type": "stream",
          "name": "stdout",
          "text": [
            "Number of samples: 6\n",
            "Number of features: 1\n"
          ]
        }
      ]
    },
    {
      "cell_type": "code",
      "source": [
        "pca = PCA(n_components=1)\n",
        "df_pca = pca.fit_transform(df_numeric_imputed)\n"
      ],
      "metadata": {
        "id": "jZzA0GkyqnNB"
      },
      "execution_count": 70,
      "outputs": []
    },
    {
      "cell_type": "code",
      "source": [
        "print(df_pca.shape)"
      ],
      "metadata": {
        "colab": {
          "base_uri": "https://localhost:8080/"
        },
        "id": "QlPnGFxDvIXC",
        "outputId": "88456288-74ea-4f03-872b-56f3016a52d5"
      },
      "execution_count": 81,
      "outputs": [
        {
          "output_type": "stream",
          "name": "stdout",
          "text": [
            "(6, 1)\n"
          ]
        }
      ]
    },
    {
      "cell_type": "code",
      "source": [
        "plt.figure(figsize=(8, 6))\n",
        "plt.scatter(df_pca[:, 0], df_pca[:, ])\n",
        "plt.title(\"PCA plot of Customers\")\n",
        "plt.show()\n"
      ],
      "metadata": {
        "colab": {
          "base_uri": "https://localhost:8080/",
          "height": 545
        },
        "id": "wp532bPjuXCo",
        "outputId": "e7f3afae-99a1-4d09-c410-c1b22fd3fb97"
      },
      "execution_count": 85,
      "outputs": [
        {
          "output_type": "display_data",
          "data": {
            "text/plain": [
              "<Figure size 800x600 with 1 Axes>"
            ],
            "image/png": "[encoded data removed]"
          },
          "metadata": {}
        }
      ]
    },
    {
      "cell_type": "markdown",
      "source": [
        "# Implementing Clustering Algorithms:"
      ],
      "metadata": {
        "id": "ncbuz4Lry26T"
      }
    },
    {
      "cell_type": "markdown",
      "source": [
        "1.Implement the K-Means, hierarchical, and DBSCAN algorithms using a programming language such as Python with libraries like scikit-learn or MATLAB."
      ],
      "metadata": {
        "id": "BpbgqIUcy4vn"
      }
    },
    {
      "cell_type": "code",
      "source": [
        "inertia = []\n",
        "K_range = range(1, 7)\n",
        "for k in K_range:\n",
        "    kmeans = KMeans(n_clusters=k)\n",
        "    kmeans.fit(df_numeric_imputed)\n",
        "    inertia.append(kmeans.inertia_)"
      ],
      "metadata": {
        "colab": {
          "base_uri": "https://localhost:8080/"
        },
        "id": "JJKK4Q-fjb6q",
        "outputId": "6e4d5c4c-5c8e-4efa-db33-f0e32acbff50"
      },
      "execution_count": 101,
      "outputs": [
        {
          "output_type": "stream",
          "name": "stderr",
          "text": [
            "/usr/local/lib/python3.10/dist-packages/sklearn/cluster/_kmeans.py:1416: FutureWarning: The default value of `n_init` will change from 10 to 'auto' in 1.4. Set the value of `n_init` explicitly to suppress the warning\n",
            "  super()._check_params_vs_input(X, default_n_init=10)\n",
            "/usr/local/lib/python3.10/dist-packages/sklearn/cluster/_kmeans.py:1416: FutureWarning: The default value of `n_init` will change from 10 to 'auto' in 1.4. Set the value of `n_init` explicitly to suppress the warning\n",
            "  super()._check_params_vs_input(X, default_n_init=10)\n",
            "/usr/local/lib/python3.10/dist-packages/sklearn/cluster/_kmeans.py:1416: FutureWarning: The default value of `n_init` will change from 10 to 'auto' in 1.4. Set the value of `n_init` explicitly to suppress the warning\n",
            "  super()._check_params_vs_input(X, default_n_init=10)\n",
            "/usr/local/lib/python3.10/dist-packages/sklearn/cluster/_kmeans.py:1416: FutureWarning: The default value of `n_init` will change from 10 to 'auto' in 1.4. Set the value of `n_init` explicitly to suppress the warning\n",
            "  super()._check_params_vs_input(X, default_n_init=10)\n",
            "/usr/local/lib/python3.10/dist-packages/sklearn/base.py:1152: ConvergenceWarning: Number of distinct clusters (3) found smaller than n_clusters (4). Possibly due to duplicate points in X.\n",
            "  return fit_method(estimator, *args, **kwargs)\n",
            "/usr/local/lib/python3.10/dist-packages/sklearn/cluster/_kmeans.py:1416: FutureWarning: The default value of `n_init` will change from 10 to 'auto' in 1.4. Set the value of `n_init` explicitly to suppress the warning\n",
            "  super()._check_params_vs_input(X, default_n_init=10)\n",
            "/usr/local/lib/python3.10/dist-packages/sklearn/base.py:1152: ConvergenceWarning: Number of distinct clusters (3) found smaller than n_clusters (5). Possibly due to duplicate points in X.\n",
            "  return fit_method(estimator, *args, **kwargs)\n",
            "/usr/local/lib/python3.10/dist-packages/sklearn/cluster/_kmeans.py:1416: FutureWarning: The default value of `n_init` will change from 10 to 'auto' in 1.4. Set the value of `n_init` explicitly to suppress the warning\n",
            "  super()._check_params_vs_input(X, default_n_init=10)\n",
            "/usr/local/lib/python3.10/dist-packages/sklearn/base.py:1152: ConvergenceWarning: Number of distinct clusters (3) found smaller than n_clusters (6). Possibly due to duplicate points in X.\n",
            "  return fit_method(estimator, *args, **kwargs)\n"
          ]
        }
      ]
    },
    {
      "cell_type": "code",
      "source": [
        "plt.plot(K_range, inertia, 'bx-')\n",
        "plt.xlabel('Number of clusters')\n",
        "plt.ylabel('Inertia')\n",
        "plt.title('Elbow Curve for K-Means')\n",
        "plt.show()"
      ],
      "metadata": {
        "colab": {
          "base_uri": "https://localhost:8080/",
          "height": 472
        },
        "id": "uXz4nm6MkITL",
        "outputId": "a331e040-8f54-452f-df75-54015828d31b"
      },
      "execution_count": 86,
      "outputs": [
        {
          "output_type": "display_data",
          "data": {
            "text/plain": [
              "<Figure size 640x480 with 1 Axes>"
            ],
            "image/png": "[encoded data removed]"
          },
          "metadata": {}
        }
      ]
    },
    {
      "cell_type": "markdown",
      "source": [
        "2.Apply each clustering algorithm to the pre-processed dataset to identify clusters within the data."
      ],
      "metadata": {
        "id": "pc7yBh8AzfGz"
      }
    },
    {
      "cell_type": "code",
      "source": [
        "optimal_k = 3\n",
        "kmeans = KMeans(n_clusters=optimal_k, random_state=42)\n",
        "df['kmeans_cluster'] = kmeans.fit_predict(df_numeric_imputed)"
      ],
      "metadata": {
        "colab": {
          "base_uri": "https://localhost:8080/"
        },
        "id": "FRjJpk02vtL7",
        "outputId": "3011b13a-f3f7-4b28-c425-f812b7fda4c8"
      },
      "execution_count": 87,
      "outputs": [
        {
          "output_type": "stream",
          "name": "stderr",
          "text": [
            "/usr/local/lib/python3.10/dist-packages/sklearn/cluster/_kmeans.py:1416: FutureWarning: The default value of `n_init` will change from 10 to 'auto' in 1.4. Set the value of `n_init` explicitly to suppress the warning\n",
            "  super()._check_params_vs_input(X, default_n_init=10)\n"
          ]
        }
      ]
    },
    {
      "cell_type": "code",
      "source": [
        "linkage_matrix = linkage(df_numeric_imputed, method='ward')"
      ],
      "metadata": {
        "id": "PhdYB22_v5jf"
      },
      "execution_count": 89,
      "outputs": []
    },
    {
      "cell_type": "code",
      "source": [
        "plt.figure(figsize=(10, 7))\n",
        "dendrogram(linkage_matrix)\n",
        "plt.title(\"Dendrogram for Hierarchical Clustering\")\n",
        "plt.show()"
      ],
      "metadata": {
        "colab": {
          "base_uri": "https://localhost:8080/",
          "height": 626
        },
        "id": "EzhERRo3v9bm",
        "outputId": "0dab0a91-59f2-4c9f-f798-cf11ed6d3868"
      },
      "execution_count": 90,
      "outputs": [
        {
          "output_type": "display_data",
          "data": {
            "text/plain": [
              "<Figure size 1000x700 with 1 Axes>"
            ],
            "image/png": "[encoded data removed]"
          },
          "metadata": {}
        }
      ]
    },
    {
      "cell_type": "code",
      "source": [
        "hierarchical = AgglomerativeClustering(n_clusters=optimal_k)\n",
        "df['hierarchical_cluster'] = hierarchical.fit_predict(df_numeric_imputed)"
      ],
      "metadata": {
        "id": "KePJi1piwGwB"
      },
      "execution_count": 91,
      "outputs": []
    },
    {
      "cell_type": "code",
      "source": [
        "dbscan = DBSCAN(eps=0.5, min_samples=5)\n",
        "df['dbscan_cluster'] = dbscan.fit_predict(df_numeric_imputed)"
      ],
      "metadata": {
        "id": "i2G67yPrwa7N"
      },
      "execution_count": 92,
      "outputs": []
    },
    {
      "cell_type": "markdown",
      "source": [
        "3.Experiment with different parameter settings for hierarchical clustering (e.g., linkage criteria), K-means (Elbow curve for different K values) and DBSCAN (e.g., epsilon, minPts) and evaluate the clustering results."
      ],
      "metadata": {
        "id": "GnhILWU2zUak"
      }
    },
    {
      "cell_type": "code",
      "source": [
        "print(\"K-Means Cluster Counts:\")\n",
        "print(df['kmeans_cluster'].value_counts())\n",
        "\n",
        "print(\"Hierarchical Cluster Counts:\")\n",
        "print(df['hierarchical_cluster'].value_counts())\n",
        "\n",
        "print(\"DBSCAN Cluster Counts:\")\n",
        "print(df['dbscan_cluster'].value_counts())"
      ],
      "metadata": {
        "colab": {
          "base_uri": "https://localhost:8080/"
        },
        "id": "LyxgC6ffwjmJ",
        "outputId": "d8c6ade9-96d4-440a-ec13-f040e8b48401"
      },
      "execution_count": 93,
      "outputs": [
        {
          "output_type": "stream",
          "name": "stdout",
          "text": [
            "K-Means Cluster Counts:\n",
            "kmeans_cluster\n",
            "1    3\n",
            "0    2\n",
            "2    1\n",
            "Name: count, dtype: int64\n",
            "Hierarchical Cluster Counts:\n",
            "hierarchical_cluster\n",
            "1    3\n",
            "0    2\n",
            "2    1\n",
            "Name: count, dtype: int64\n",
            "DBSCAN Cluster Counts:\n",
            "dbscan_cluster\n",
            "-1    6\n",
            "Name: count, dtype: int64\n"
          ]
        }
      ]
    },
    {
      "cell_type": "code",
      "source": [
        "plt.figure(figsize=(5, 7))\n",
        "plt.scatter(df_pca[:, 0], df_pca[:, ], c=df['kmeans_cluster'], cmap='rainbow')\n",
        "plt.title('K-Means Clustering')\n",
        "plt.show()"
      ],
      "metadata": {
        "colab": {
          "base_uri": "https://localhost:8080/",
          "height": 622
        },
        "id": "G1uljhBUwo2R",
        "outputId": "99957892-bd82-4867-fa9d-bbb4dca4daa8"
      },
      "execution_count": 97,
      "outputs": [
        {
          "output_type": "display_data",
          "data": {
            "text/plain": [
              "<Figure size 500x700 with 1 Axes>"
            ],
            "image/png": "[encoded data removed]"
          },
          "metadata": {}
        }
      ]
    },
    {
      "cell_type": "code",
      "source": [
        "plt.figure(figsize=(8, 6))\n",
        "plt.scatter(df_pca[:, 0], df_pca[:,], c=df['hierarchical_cluster'], cmap='rainbow')\n",
        "plt.title('Hierarchical Clustering')\n",
        "plt.show()"
      ],
      "metadata": {
        "colab": {
          "base_uri": "https://localhost:8080/",
          "height": 545
        },
        "id": "mAEH3-W9w6I_",
        "outputId": "55d5f056-14bb-4970-f386-bbad6767dd7e"
      },
      "execution_count": 98,
      "outputs": [
        {
          "output_type": "display_data",
          "data": {
            "text/plain": [
              "<Figure size 800x600 with 1 Axes>"
            ],
            "image/png": "[encoded data removed]"
          },
          "metadata": {}
        }
      ]
    },
    {
      "cell_type": "code",
      "source": [
        "plt.figure(figsize=(8, 6))\n",
        "plt.scatter(df_pca[:, 0], df_pca[:, ], c=df['dbscan_cluster'], cmap='rainbow')\n",
        "plt.title('DBSCAN Clustering')\n",
        "plt.show()"
      ],
      "metadata": {
        "colab": {
          "base_uri": "https://localhost:8080/",
          "height": 545
        },
        "id": "shaRHbk4xKWB",
        "outputId": "55410e29-fd42-409d-ff80-0851ad1ce479"
      },
      "execution_count": 99,
      "outputs": [
        {
          "output_type": "display_data",
          "data": {
            "text/plain": [
              "<Figure size 800x600 with 1 Axes>"
            ],
            "image/png": "[encoded data removed]"
          },
          "metadata": {}
        }
      ]
    },
    {
      "cell_type": "code",
      "source": [
        "kmeans_silhouette = silhouette_score(df_numeric_imputed, df['kmeans_cluster'])\n",
        "hierarchical_silhouette = silhouette_score(df_numeric_imputed, df['hierarchical_cluster'])\n",
        "dbscan_silhouette = silhouette_score(df_numeric_imputed, df['dbscan_cluster']) if len(set(df['dbscan_cluster'])) > 1 else -1\n",
        "\n",
        "print(f\"Silhouette Score for K-Means: {kmeans_silhouette}\")\n",
        "print(f\"Silhouette Score for Hierarchical: {hierarchical_silhouette}\")\n",
        "print(f\"Silhouette Score for DBSCAN: {dbscan_silhouette}\")"
      ],
      "metadata": {
        "colab": {
          "base_uri": "https://localhost:8080/"
        },
        "id": "Q_MBrBI5xPC-",
        "outputId": "98245d50-396e-48ea-ebe0-34071ea6680a"
      },
      "execution_count": 100,
      "outputs": [
        {
          "output_type": "stream",
          "name": "stdout",
          "text": [
            "Silhouette Score for K-Means: 0.8333333333333334\n",
            "Silhouette Score for Hierarchical: 0.8333333333333334\n",
            "Silhouette Score for DBSCAN: -1\n"
          ]
        }
      ]
    }
  ]
}